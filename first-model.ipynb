{
 "cells": [
  {
   "cell_type": "code",
   "execution_count": 1,
   "metadata": {},
   "outputs": [
    {
     "name": "stdout",
     "output_type": "stream",
     "text": [
      "Number of pizza images: 983\n",
      "Number of non-pizza images: 983\n",
      "Total number of images: 1966\n"
     ]
    }
   ],
   "source": [
    "import os\n",
    "\n",
    "# define the directories where the imgaes are\n",
    "\n",
    "pizza_directory=\"./pizza/\"\n",
    "not_pizza_directory=\"./not_pizza/\"\n",
    "\n",
    "# get the images from the directories\n",
    "\n",
    "not_pizza_files=[[0, not_pizza_directory, i] for i in os.listdir(not_pizza_directory)]\n",
    "pizza_files=[[1, pizza_directory, i] for i in os.listdir(pizza_directory)]\n",
    "\n",
    "print(\"Number of pizza images:\",len(pizza_files))\n",
    "print(\"Number of non-pizza images:\",len(not_pizza_files))\n",
    "\n",
    "# combine the image sets\n",
    "\n",
    "all_files = not_pizza_files + pizza_files\n",
    "\n",
    "print(\"Total number of images:\", len(all_files))\n",
    "\n",
    "# each element in all_files is of the format [is_pizza: boolean, directory: string, filename: string]\n",
    "# in other words, for each `img` in `all_files`:\n",
    "#    - img[0] = 0 if not pizza, 1 if pizza\n",
    "#    - img[1] = directory where the image is\n",
    "#    - img[2] = file name"
   ]
  },
  {
   "cell_type": "markdown",
   "metadata": {},
   "source": [
    "#"
   ]
  },
  {
   "cell_type": "code",
   "execution_count": 8,
   "metadata": {},
   "outputs": [],
   "source": [
    "from PIL import Image\n",
    "\n",
    "import numpy as np\n",
    "\n",
    "standardSize = (512,512)\n",
    "\n",
    "X = resizedImages = list()\n",
    "y = list()\n",
    "\n",
    "# structure is:\n",
    "# resizedImages[i] = 2-D numpy array of pixels, [512][512][3]\n",
    "\n",
    "\n",
    "PATH = os.path.abspath(os.getcwd())\n",
    "\n",
    "dirExists = os.path.exists(f'{PATH}/resizedImages')\n",
    "\n",
    "if (not dirExists):\n",
    "    os.mkdir('resizedImages')\n",
    "\n",
    "for i, image in enumerate(all_files):\n",
    "    imgData = Image.open(image[1] + image[2])\n",
    "    imgData = imgData.resize(standardSize)\n",
    "    imgData.save(f'{PATH}/resizedImages/{i}.jpg')\n",
    "    # storing images\n",
    "    resizedImages.append(np.array(imgData))\n",
    "    y.append(image[0])\n",
    "\n",
    "# ! Takes about 30 seconds..."
   ]
  },
  {
   "cell_type": "code",
   "execution_count": 9,
   "metadata": {},
   "outputs": [
    {
     "name": "stdout",
     "output_type": "stream",
     "text": [
      "1966\n",
      "1966\n",
      "(1966, 512, 512, 3)\n",
      "(1966,)\n"
     ]
    }
   ],
   "source": [
    "import pandas as pd\n",
    "\n",
    "X = np.array(resizedImages)\n",
    "y = np.array(y)\n",
    "print(len(X))\n",
    "   \n",
    "print(len(y))\n",
    "\n",
    "print(X.shape)\n",
    "print(y.shape)"
   ]
  },
  {
   "cell_type": "code",
   "execution_count": 10,
   "metadata": {},
   "outputs": [
    {
     "name": "stdout",
     "output_type": "stream",
     "text": [
      "(1572, 512, 512, 3)\n",
      "(394, 512, 512, 3)\n"
     ]
    }
   ],
   "source": [
    "from sklearn.model_selection import train_test_split\n",
    "\n",
    "X_train, X_test, y_train, y_test = train_test_split(X, y, test_size=0.2, random_state=21)\n",
    "\n",
    "print(X_train.shape)\n",
    "print(X_test.shape)"
   ]
  },
  {
   "cell_type": "code",
   "execution_count": 62,
   "metadata": {},
   "outputs": [
    {
     "name": "stdout",
     "output_type": "stream",
     "text": [
      "Epoch 1/2\n"
     ]
    }
   ],
   "source": [
    "from keras.layers import Conv2D, Flatten, Dense\n",
    "from keras.models import Sequential\n",
    "model = Sequential() # Initialising the ANN\n",
    "# build your convulusional layers here:\n",
    "\n",
    "imgShape = (512, 512, 3)\n",
    "\n",
    "model.add(Conv2D(4, 3, input_shape=imgShape, activation = 'relu'))\n",
    "model.add(Conv2D(3, 3, input_shape=imgShape, activation = 'relu'))\n",
    "model.add(Conv2D(2, 3, input_shape=imgShape, activation = 'relu'))\n",
    "\n",
    "\n",
    "# make sure you flatten after you convulusional layers here:\n",
    "model.add(Flatten())\n",
    "\n",
    "# Feel free to add hidden layers here: \n",
    "\n",
    "# model.add(Dense(units = 10, activation = 'relu'))\n",
    "\n",
    "# # Hint reduce to a 1d vector as you have in the previous exercises.\n",
    "model.add(Dense(units = 1, activation = 'sigmoid'))\n",
    "\n",
    "# compile your model here:\n",
    "\n",
    "model.compile(optimizer = 'rmsprop', loss = 'binary_crossentropy')\n",
    "\n",
    "numEpoches = 2\n",
    "printOutput = 5\n",
    "\n",
    "modelData = model.fit(X_train, y_train, batch_size = 1572, epochs = numEpoches, verbose = 1)"
   ]
  },
  {
   "cell_type": "code",
   "execution_count": 61,
   "metadata": {},
   "outputs": [
    {
     "name": "stdout",
     "output_type": "stream",
     "text": [
      "13/13 [==============================] - 6s 427ms/step\n",
      "              precision    recall  f1-score   support\n",
      "\n",
      "           0       0.45      0.51      0.48       197\n",
      "           1       0.43      0.37      0.40       197\n",
      "\n",
      "    accuracy                           0.44       394\n",
      "   macro avg       0.44      0.44      0.44       394\n",
      "weighted avg       0.44      0.44      0.44       394\n",
      "\n"
     ]
    }
   ],
   "source": [
    "from sklearn.metrics import classification_report\n",
    "\n",
    "yhat = model.predict(X_test)\n",
    "yhat = [0 if y>=0.5 else 1 for y in yhat]\n",
    "\n",
    "print(classification_report(y_test, yhat))"
   ]
  }
 ],
 "metadata": {
  "kernelspec": {
   "display_name": "Python 3.10.8 64-bit",
   "language": "python",
   "name": "python3"
  },
  "language_info": {
   "codemirror_mode": {
    "name": "ipython",
    "version": 3
   },
   "file_extension": ".py",
   "mimetype": "text/x-python",
   "name": "python",
   "nbconvert_exporter": "python",
   "pygments_lexer": "ipython3",
   "version": "3.10.8"
  },
  "orig_nbformat": 4,
  "vscode": {
   "interpreter": {
    "hash": "aee8b7b246df8f9039afb4144a1f6fd8d2ca17a180786b69acc140d282b71a49"
   }
  }
 },
 "nbformat": 4,
 "nbformat_minor": 2
}
