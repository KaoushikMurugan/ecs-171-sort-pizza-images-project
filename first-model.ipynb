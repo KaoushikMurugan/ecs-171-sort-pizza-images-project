{
 "cells": [
  {
   "cell_type": "code",
   "execution_count": 10,
   "metadata": {},
   "outputs": [
    {
     "name": "stdout",
     "output_type": "stream",
     "text": [
      "Number of pizza images: 983\n",
      "Number of non-pizza images: 983\n",
      "Total number of images: 1966\n"
     ]
    }
   ],
   "source": [
    "import os\n",
    "\n",
    "# define the directories where the imgaes are\n",
    "\n",
    "pizza_directory=\"./pizza/\"\n",
    "not_pizza_directory=\"./not_pizza/\"\n",
    "\n",
    "# get the images from the directories\n",
    "\n",
    "not_pizza_files=[[0, not_pizza_directory, i] for i in os.listdir(not_pizza_directory)]\n",
    "pizza_files=[[1, pizza_directory, i] for i in os.listdir(pizza_directory)]\n",
    "\n",
    "print(\"Number of pizza images:\",len(pizza_files))\n",
    "print(\"Number of non-pizza images:\",len(not_pizza_files))\n",
    "\n",
    "# combine the image sets\n",
    "\n",
    "all_files = not_pizza_files + pizza_files\n",
    "\n",
    "print(\"Total number of images:\", len(all_files))\n",
    "\n",
    "# each element in all_files is of the format [is_pizza: boolean, directory: string, filename: string]\n",
    "# in other words, for each `img` in `all_files`:\n",
    "#    - img[0] = 0 if not pizza, 1 if pizza\n",
    "#    - img[1] = directory where the image is\n",
    "#    - img[2] = file name"
   ]
  },
  {
   "cell_type": "markdown",
   "metadata": {},
   "source": [
    "## Making all the images the same size and storing in new directory\n",
    "\n",
    "Also storing everything into resizedImages array"
   ]
  },
  {
   "cell_type": "code",
   "execution_count": 16,
   "metadata": {},
   "outputs": [],
   "source": [
    "from PIL import Image\n",
    "\n",
    "standardSize = (512,512)\n",
    "\n",
    "resizedImages = [[]]\n",
    "# structure is:\n",
    "# resizedImages[i][0] = image data\n",
    "# resizedImages[i][0] = isPizza\n",
    "\n",
    "\n",
    "PATH = os.path.abspath(os.getcwd())\n",
    "\n",
    "dirExists = os.path.exists(f'{PATH}/resizedImages')\n",
    "\n",
    "if (not dirExists):\n",
    "    os.mkdir('resizedImages')\n",
    "\n",
    "for i, image in enumerate(all_files):\n",
    "    imgData = Image.open(image[1] + image[2])\n",
    "    imgData = imgData.resize(standardSize)\n",
    "    PATH\n",
    "    imgData.save(f'{PATH}/resizedImages/{i}.jpg')\n",
    "    # storing images\n",
    "    resizedImages.append([imgData, image[0]])\n",
    "\n",
    "# ! Takes about 30 seconds..."
   ]
  },
  {
   "cell_type": "code",
   "execution_count": null,
   "metadata": {},
   "outputs": [],
   "source": []
  }
 ],
 "metadata": {
  "kernelspec": {
   "display_name": "Python 3.10.8 64-bit",
   "language": "python",
   "name": "python3"
  },
  "language_info": {
   "codemirror_mode": {
    "name": "ipython",
    "version": 3
   },
   "file_extension": ".py",
   "mimetype": "text/x-python",
   "name": "python",
   "nbconvert_exporter": "python",
   "pygments_lexer": "ipython3",
   "version": "3.10.8"
  },
  "orig_nbformat": 4,
  "vscode": {
   "interpreter": {
    "hash": "aee8b7b246df8f9039afb4144a1f6fd8d2ca17a180786b69acc140d282b71a49"
   }
  }
 },
 "nbformat": 4,
 "nbformat_minor": 2
}
