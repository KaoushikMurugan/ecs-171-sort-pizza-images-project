{
 "cells": [
  {
   "cell_type": "code",
   "execution_count": 66,
   "metadata": {},
   "outputs": [
    {
     "name": "stdout",
     "output_type": "stream",
     "text": [
      "Requirement already satisfied: matplotlib in /Users/KaoushikMurgan/Library/Python/3.10/lib/python/site-packages (3.6.0)\n",
      "Requirement already satisfied: contourpy>=1.0.1 in /Users/KaoushikMurgan/Library/Python/3.10/lib/python/site-packages (from matplotlib) (1.0.5)\n",
      "Requirement already satisfied: fonttools>=4.22.0 in /Users/KaoushikMurgan/Library/Python/3.10/lib/python/site-packages (from matplotlib) (4.37.3)\n",
      "Requirement already satisfied: pyparsing>=2.2.1 in /usr/local/lib/python3.10/site-packages (from matplotlib) (3.0.9)\n",
      "Requirement already satisfied: numpy>=1.19 in /Users/KaoushikMurgan/Library/Python/3.10/lib/python/site-packages (from matplotlib) (1.23.3)\n",
      "Requirement already satisfied: pillow>=6.2.0 in /Users/KaoushikMurgan/Library/Python/3.10/lib/python/site-packages (from matplotlib) (9.2.0)\n",
      "Requirement already satisfied: packaging>=20.0 in /usr/local/lib/python3.10/site-packages (from matplotlib) (21.3)\n",
      "Requirement already satisfied: cycler>=0.10 in /Users/KaoushikMurgan/Library/Python/3.10/lib/python/site-packages (from matplotlib) (0.11.0)\n",
      "Requirement already satisfied: kiwisolver>=1.0.1 in /Users/KaoushikMurgan/Library/Python/3.10/lib/python/site-packages (from matplotlib) (1.4.4)\n",
      "Requirement already satisfied: python-dateutil>=2.7 in /Users/KaoushikMurgan/Library/Python/3.10/lib/python/site-packages (from matplotlib) (2.8.2)\n",
      "Requirement already satisfied: six>=1.5 in /Users/KaoushikMurgan/Library/Python/3.10/lib/python/site-packages (from python-dateutil>=2.7->matplotlib) (1.16.0)\n",
      "Requirement already satisfied: numpy in /Users/KaoushikMurgan/Library/Python/3.10/lib/python/site-packages (1.23.3)\n"
     ]
    }
   ],
   "source": [
    "# Install packages\n",
    "!pip install matplotlib\n",
    "!pip install numpy"
   ]
  },
  {
   "cell_type": "code",
   "execution_count": null,
   "metadata": {},
   "outputs": [],
   "source": [
    "# get data from github\n",
    "\n",
    "# TODO"
   ]
  },
  {
   "cell_type": "code",
   "execution_count": 1,
   "metadata": {
    "scrolled": false
   },
   "outputs": [
    {
     "name": "stderr",
     "output_type": "stream",
     "text": [
      "2022-11-20 16:33:59.940385: I tensorflow/core/platform/cpu_feature_guard.cc:193] This TensorFlow binary is optimized with oneAPI Deep Neural Network Library (oneDNN) to use the following CPU instructions in performance-critical operations:  AVX2 FMA\n",
      "To enable them in other operations, rebuild TensorFlow with the appropriate compiler flags.\n"
     ]
    }
   ],
   "source": [
    "import tensorflow as tf"
   ]
  },
  {
   "cell_type": "code",
   "execution_count": 60,
   "metadata": {},
   "outputs": [
    {
     "name": "stdout",
     "output_type": "stream",
     "text": [
      "Number of pizza images: 983\n",
      "Number of non-pizza images: 983\n",
      "Total number of images: 1966\n"
     ]
    }
   ],
   "source": [
    "import os\n",
    "\n",
    "# define the directories where the imgaes are\n",
    "\n",
    "pizza_directory=\"./pizza/\"\n",
    "not_pizza_directory=\"./not_pizza/\"\n",
    "\n",
    "# get the images from the directories\n",
    "\n",
    "not_pizza_files=[[0, not_pizza_directory, i] for i in os.listdir(not_pizza_directory)]\n",
    "pizza_files=[[1, pizza_directory, i] for i in os.listdir(pizza_directory)]\n",
    "\n",
    "print(\"Number of pizza images:\",len(pizza_files))\n",
    "print(\"Number of non-pizza images:\",len(not_pizza_files))\n",
    "\n",
    "# combine the image sets\n",
    "\n",
    "all_files = not_pizza_files + pizza_files\n",
    "\n",
    "print(\"Total number of images:\", len(all_files))\n",
    "\n",
    "# each element in all_files is of the format [is_pizza: boolean, directory: string, filename: string]\n",
    "# in other words, for each `img` in `all_files`:\n",
    "#    - img[0] = 0 if not pizza, 1 if pizza\n",
    "#    - img[1] = directory where the image is\n",
    "#    - img[2] = file name"
   ]
  },
  {
   "cell_type": "code",
   "execution_count": 59,
   "metadata": {},
   "outputs": [
    {
     "data": {
      "image/png": "[encoded data removed]",
      "text/plain": [
       "<Figure size 640x480 with 1 Axes>"
      ]
     },
     "metadata": {},
     "output_type": "display_data"
    }
   ],
   "source": [
    "# this is not necessary, but we're doing it just incase\n",
    "\n",
    "# plotting \n",
    "\n",
    "import matplotlib.pyplot as plt\n",
    "\n",
    "classes = []\n",
    "\n",
    "for img in all_files:\n",
    "    classes.append(img[0])\n",
    "\n",
    "plt.hist(classes)\n",
    "plt.show()"
   ]
  },
  {
   "cell_type": "code",
   "execution_count": null,
   "metadata": {},
   "outputs": [],
   "source": [
    "# We have two classes: Pizza and Not Pizza. We have 983 images each"
   ]
  },
  {
   "cell_type": "code",
   "execution_count": 50,
   "metadata": {},
   "outputs": [
    {
     "name": "stdout",
     "output_type": "stream",
     "text": [
      "(512, 342): 11\n",
      "(512, 461): 1\n",
      "(512, 287): 4\n",
      "(341, 512): 4\n",
      "(512, 406): 1\n",
      "(508, 512): 1\n",
      "(512, 308): 1\n",
      "(512, 366): 3\n",
      "(512, 372): 1\n",
      "(288, 512): 4\n",
      "(343, 512): 1\n",
      "(512, 439): 1\n",
      "(512, 445): 1\n",
      "(512, 384): 362\n",
      "(510, 512): 2\n",
      "(512, 509): 3\n",
      "(512, 329): 1\n",
      "(424, 512): 2\n",
      "(512, 506): 1\n",
      "(512, 512): 1084\n",
      "(382, 512): 66\n",
      "(512, 451): 1\n",
      "(512, 396): 1\n",
      "(512, 332): 1\n",
      "(512, 341): 31\n",
      "(512, 335): 1\n",
      "(307, 512): 3\n",
      "(512, 338): 1\n",
      "(512, 344): 2\n",
      "(512, 289): 19\n",
      "(512, 469): 1\n",
      "(512, 307): 9\n",
      "(512, 374): 1\n",
      "(512, 432): 2\n",
      "(384, 512): 150\n",
      "(329, 512): 1\n",
      "(512, 377): 1\n",
      "(287, 512): 2\n",
      "(512, 441): 1\n",
      "(386, 512): 1\n",
      "(342, 512): 1\n",
      "(289, 512): 8\n",
      "(507, 512): 1\n",
      "(512, 383): 9\n",
      "(366, 512): 1\n",
      "(512, 459): 2\n",
      "(512, 511): 12\n",
      "(512, 398): 1\n",
      "(512, 343): 1\n",
      "(512, 340): 9\n",
      "(443, 512): 1\n",
      "(512, 410): 1\n",
      "(512, 288): 13\n",
      "(445, 512): 1\n",
      "(512, 352): 1\n",
      "(511, 512): 11\n",
      "(324, 512): 1\n",
      "(388, 512): 1\n",
      "(383, 512): 5\n",
      "(500, 512): 1\n",
      "(491, 512): 1\n",
      "(512, 306): 24\n",
      "(442, 512): 1\n",
      "(306, 512): 8\n",
      "(512, 434): 1\n",
      "(512, 312): 1\n",
      "(512, 318): 1\n",
      "(512, 382): 52\n",
      "(512, 388): 2\n",
      "(512, 446): 1\n",
      "(512, 385): 5\n",
      "(512, 391): 1\n",
      "(512, 333): 2\n",
      "(418, 512): 1\n"
     ]
    }
   ],
   "source": [
    "# check size of all images\n",
    "\n",
    "from PIL import Image\n",
    "\n",
    "\n",
    "image_sizes_set = set()\n",
    "image_sizes = []\n",
    "\n",
    "for image in all_files:\n",
    "    imgData = Image.open(image[1] + image[2]).convert(\"L\")\n",
    "    image_sizes_set.add(imgData.size)\n",
    "    image_sizes.append(imgData.size)\n",
    "\n",
    "for size in image_sizes_set:\n",
    "    num = image_sizes.count(size)\n",
    "    print(f'{size}: {num}')\n",
    "      "
   ]
  },
  {
   "cell_type": "code",
   "execution_count": 64,
   "metadata": {},
   "outputs": [],
   "source": [
    "# We notice that more than half of the images are of the size 512x512\n",
    "# Hence for preprocessing we will skew (i.e. stretch) the images to 512x512\n",
    "\n",
    "# We will use the PIL library to stretch the images to a standard size of 512x512. \n",
    "# Then we will use np.array and Image.open() to convert the images to a 2d array of rgb values, and then store them into a pandas dataframe.\n",
    "# i.e. each image is converted to a 3d array of dimensions [512][512][3]"
   ]
  },
  {
   "cell_type": "code",
   "execution_count": 54,
   "metadata": {},
   "outputs": [
    {
     "name": "stdout",
     "output_type": "stream",
     "text": [
      "[[[ 23  10   2]\n",
      "  [ 25  12   4]\n",
      "  [ 28  13   6]\n",
      "  ...\n",
      "  [ 12   7   4]\n",
      "  [ 10   5   2]\n",
      "  [  9   4   1]]\n",
      "\n",
      " [[ 23  10   2]\n",
      "  [ 25  12   4]\n",
      "  [ 28  13   6]\n",
      "  ...\n",
      "  [ 12   7   4]\n",
      "  [ 11   6   3]\n",
      "  [  9   4   1]]\n",
      "\n",
      " [[ 24  11   3]\n",
      "  [ 26  13   5]\n",
      "  [ 29  14   7]\n",
      "  ...\n",
      "  [ 12   7   4]\n",
      "  [ 10   6   3]\n",
      "  [  8   4   1]]\n",
      "\n",
      " ...\n",
      "\n",
      " [[ 93  37  12]\n",
      "  [ 94  38  13]\n",
      "  [ 95  39  14]\n",
      "  ...\n",
      "  [ 69  17   6]\n",
      "  [ 64  12   1]\n",
      "  [ 60   8   0]]\n",
      "\n",
      " [[ 94  40  14]\n",
      "  [ 97  43  17]\n",
      "  [100  46  20]\n",
      "  ...\n",
      "  [ 59  10   0]\n",
      "  [ 58   9   0]\n",
      "  [ 57   8   0]]\n",
      "\n",
      " [[ 86  32   6]\n",
      "  [ 92  38  12]\n",
      "  [ 97  43  17]\n",
      "  ...\n",
      "  [ 75  26  12]\n",
      "  [ 77  28  14]\n",
      "  [ 80  31  17]]]\n"
     ]
    }
   ],
   "source": [
    "# example of converting image to 3d numpy array\n",
    "\n",
    "import numpy as np\n",
    "\n",
    "img = Image.open(all_files[0][1] + all_files[0][2])\n",
    "\n",
    "img.show()\n",
    "print(np.array(img))"
   ]
  }
 ],
 "metadata": {
  "kernelspec": {
   "display_name": "Python 3 (ipykernel)",
   "language": "python",
   "name": "python3"
  },
  "language_info": {
   "codemirror_mode": {
    "name": "ipython",
    "version": 3
   },
   "file_extension": ".py",
   "mimetype": "text/x-python",
   "name": "python",
   "nbconvert_exporter": "python",
   "pygments_lexer": "ipython3",
   "version": "3.10.8"
  },
  "vscode": {
   "interpreter": {
    "hash": "1a1af0ee75eeea9e2e1ee996c87e7a2b11a0bebd85af04bb136d915cefc0abce"
   }
  }
 },
 "nbformat": 4,
 "nbformat_minor": 2
}
