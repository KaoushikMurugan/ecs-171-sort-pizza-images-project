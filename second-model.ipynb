{
 "cells": [
  {
   "cell_type": "code",
   "execution_count": null,
   "metadata": {
    "collapsed": true
   },
   "outputs": [],
   "source": [
    "import os\n",
    "# define the directories where the imgaes are\n",
    "pizza_directory=\"./pizza/\"\n",
    "not_pizza_directory=\"./not_pizza/\"\n",
    "\n",
    "# get the images from the directories\n",
    "not_pizza_files=[[0, not_pizza_directory, i] for i in os.listdir(not_pizza_directory)]\n",
    "pizza_files=[[1, pizza_directory, i] for i in os.listdir(pizza_directory)]\n",
    "\n",
    "print(\"Number of pizza images:\",len(pizza_files))\n",
    "print(\"Number of non-pizza images:\",len(not_pizza_files))\n",
    "\n",
    "# combine the image sets\n",
    "all_files = not_pizza_files + pizza_files\n",
    "\n",
    "print(\"Total number of images:\", len(all_files))\n",
    "\n",
    "# each element in all_files is of the format [is_pizza: boolean, directory: string, filename: string]\n",
    "# in other words, for each `img` in `all_files`:\n",
    "#    - img[0] = 0 if not pizza, 1 if pizza\n",
    "#    - img[1] = directory where the image is\n",
    "#    - img[2] = file name"
   ]
  },
  {
   "cell_type": "code",
   "execution_count": null,
   "outputs": [],
   "source": [
    "from PIL import Image\n",
    "\n",
    "import numpy as np\n",
    "\n",
    "standardSize = (512,512)\n",
    "resizedImages = list()\n",
    "isPizzaArray = list()\n",
    "\n",
    "# structure is:\n",
    "# resizedImages[i] = 2-D numpy array of pixels, [512][512][3]\n",
    "\n",
    "\n",
    "PATH = os.path.abspath(os.getcwd())\n",
    "if (not os.path.exists(f'{PATH}/resizedImages')):\n",
    "    os.mkdir('resizedImages')\n",
    "\n",
    "for i, image in enumerate(all_files):\n",
    "    imgData = Image.open(image[1] + image[2])\n",
    "    imgData = imgData.resize(standardSize)\n",
    "    imgData.save(f'{PATH}/resizedImages/{i}.jpg')\n",
    "    # storing images\n",
    "    resizedImages.append(np.array(imgData))\n",
    "    isPizzaArray.append(image[0])\n",
    "\n",
    "X = np.array(resizedImages)\n",
    "y = np.array(isPizzaArray)\n",
    "\n",
    "from sklearn.model_selection import train_test_split\n",
    "X_train, X_test, y_train, y_test = train_test_split(X, y, test_size=0.2, random_state=21)\n",
    "\n",
    "# ! Takes about 30 seconds...\n",
    "print(\"Done\")"
   ],
   "metadata": {
    "collapsed": false
   }
  },
  {
   "cell_type": "markdown",
   "source": [
    "# Second Model, using an SVM.\n",
    "To determine best svm kernel we iterated through a random subset of our data and computed the score."
   ],
   "metadata": {
    "collapsed": false
   }
  },
  {
   "cell_type": "code",
   "execution_count": null,
   "outputs": [],
   "source": [
    "from sklearn.svm import SVC\n",
    "# thing=X_trai[0].reshape(1,X_train[0].size)\n",
    "# thing.shape\n",
    "X_trai=X_train[0:10]\n",
    "y_trai=y_train[0:10]\n",
    "X_tes=X_test[30:50]\n",
    "y_tes=y_test[30:50]\n",
    "X_trai=np.array(X_trai.reshape((X_trai.shape[0], 512*512*3)),dtype=np.uint8)\n",
    "X_tes=np.array(X_tes.reshape((X_tes.shape[0], 512*512*3)),dtype=np.uint8)\n",
    "\n",
    "for i in [\"linear\",\"rbf\",\"poly\",\"sigmoid\"]:\n",
    "    SVM_cl=SVC(kernel=i)\n",
    "    SVM_cl.fit(X_trai,y_trai)\n",
    "    X_tes=X_test[30:50]\n",
    "    y_tes=y_test[30:50]\n",
    "    print(\"Mean accuracy of kernel {} {}\".format(i,SVM_cl.score(X_tes,y_tes)))\n",
    "    #Best appears to be sigmoid"
   ],
   "metadata": {
    "collapsed": false
   }
  },
  {
   "cell_type": "markdown",
   "source": [
    "# Implement SVM calc, with Naive Bayes\n",
    "We could not append the svm score of each image to the obseravtion data of the images being fed to the neural net. Because the neural net uses convolution, we could not add more dimensions, or replace one of the tensors with the svm score without causing erronious bias. So instead, we inserted the SVM classification and neural net classification into a Categorical Naive Bayes classifier."
   ],
   "metadata": {
    "collapsed": false
   }
  },
  {
   "cell_type": "code",
   "execution_count": null,
   "outputs": [],
   "source": [
    "from keras.layers import Conv2D, Flatten, Dense\n",
    "from keras.models import Sequential\n",
    "from sklearn.svm import SVC\n",
    "from sklearn.metrics import classification_report\n",
    "np.random.seed(1)\n",
    "\n",
    "\"Preparing data\"\n",
    "X_trai=X_train[0:20]\n",
    "y_trai=y_train[0:20]\n",
    "X_tes=X_test[0:10]\n",
    "y_tes=y_test[0:10]\n",
    "\"Create and Run NN\"\n",
    "model = Sequential() # Initialising the ANN\n",
    "imgShape = (512, 512, 3)\n",
    "model.add(Conv2D(7, 3, activation = 'tanh',input_shape=imgShape))\n",
    "model.add(Conv2D(3, 2, activation = 'relu'))\n",
    "model.add(Flatten())\n",
    "model.add(Dense(1,activation=\"sigmoid\")) #Here is the difference. Each pixel will push the image above or below the SVM constraints.\n",
    "model.compile(optimizer = 'rmsprop', loss = 'binary_crossentropy',metrics=[\"accuracy\"])\n",
    "numEpoches = 3\n",
    "model.fit(X_trai, y_trai, batch_size = 5, epochs = 3, verbose = 1)\n",
    "NN_SVM_pred_train=[[np.round(i)] for i in model.predict(X_trai)]\n",
    "NN_SVM_pred_test=[[np.round(i)] for i in model.predict(X_tes)]\n",
    "\n",
    "\"Create and Run SVM\"\n",
    "X_trai_SVM=np.array(X_trai.reshape((X_trai.shape[0], 512*512*3)),dtype=np.uint8)\n",
    "X_tes_SVM=np.array(X_tes.reshape((X_tes.shape[0], 512*512*3)),dtype=np.uint8)\n",
    "SVM_cl=SVC(kernel=\"sigmoid\")\n",
    "SVM_cl.fit(X_trai_SVM,y_trai)\n",
    "for i,ii in enumerate(SVM_cl.predict(X_tes_SVM)):\n",
    "    NN_SVM_pred_test[i].append(ii)\n",
    "for i,ii in enumerate(SVM_cl.predict(X_trai_SVM)):\n",
    "    NN_SVM_pred_train[i].append(ii)"
   ],
   "metadata": {
    "collapsed": false
   }
  },
  {
   "cell_type": "code",
   "execution_count": null,
   "outputs": [],
   "source": [
    "\n",
    "\"Create and Run Naive\"\n",
    "from sklearn.naive_bayes import CategoricalNB\n",
    "from sklearn.metrics import classification_report\n",
    "CNB_obj=CategoricalNB()                     #initialized object\n",
    "CNB_obj.fit(X=NN_SVM_pred_train,y=y_trai)\n",
    "print(classification_report(y_tes,CNB_obj.predict(NN_SVM_pred_test))) #classification report"
   ],
   "metadata": {
    "collapsed": false
   }
  }
 ],
 "metadata": {
  "kernelspec": {
   "display_name": "Python 3",
   "language": "python",
   "name": "python3"
  },
  "language_info": {
   "codemirror_mode": {
    "name": "ipython",
    "version": 2
   },
   "file_extension": ".py",
   "mimetype": "text/x-python",
   "name": "python",
   "nbconvert_exporter": "python",
   "pygments_lexer": "ipython2",
   "version": "2.7.6"
  }
 },
 "nbformat": 4,
 "nbformat_minor": 0
}
